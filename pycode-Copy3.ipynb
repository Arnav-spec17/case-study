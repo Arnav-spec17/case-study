{
 "cells": [
  {
   "cell_type": "markdown",
   "id": "01cec78f",
   "metadata": {},
   "source": [
    "Case Study: Fast Food\n",
    "\n",
    "The purpose of this case study is to offer another illustration of market segmentation\n",
    "analysis using a different empirical data set.For this case study, imagine that you are McDonald’s, and you would want to know if consumer segments exist that have a distinctly different image of\n",
    "McDonald’s. Understanding such systematic differences of brand perceptions by market segments informs which market segments to focus on, and what messages to communicate to them. We can choose to focus on market segments with a positive perception, and strengthen the positive perception. Or we can choose to focus on a market segment that currently perceives McDonald’s in a negative way. In this case,\n",
    "we want to understand the key drivers of the negative perception, and modify them."
   ]
  },
  {
   "cell_type": "markdown",
   "id": "d1f25203",
   "metadata": {},
   "source": [
    "A.1 Step 1: Deciding (not) to Segment\n",
    "McDonald’s can take the position that it caters to the entire market and that\n",
    "there is no need to understand systematic differences across market segments.\n",
    "Alternatively, McDonald’s can take the position that, despite their market power,\n",
    "there is value in investigating systematic heterogeneity among consumers and\n",
    "harvest these differences using a differentiated marketing strategy."
   ]
  },
  {
   "cell_type": "markdown",
   "id": "d3177487",
   "metadata": {},
   "source": [
    "A.2 Step 2: Specifying the Ideal Target Segment\n",
    "\n",
    "McDonald’s management needs to decide which key features make a market seg-\n",
    "ment attractive to them. In terms of knock-out criteria, the target segment or target\n",
    "\n",
    "segments must be homogeneous (meaning that segment members are similar to one\n",
    "another in a key characteristic), distinct (meaning that members of the segments\n",
    "differ substantially from members of other segments in a key characteristic), large\n",
    "enough to justify the development and implementation of a customised marketing\n",
    "mix, matching the strengths of McDonald’s (meaning, for example, that they must\n",
    "be open to eating at fast food restaurants rather than rejecting them outright),\n",
    "identifiable (meaning that there must be some way of spotting them among other\n",
    "consumers) and, finally, reachable"
   ]
  },
  {
   "cell_type": "markdown",
   "id": "ba21cdeb",
   "metadata": {},
   "source": [
    "A.3 Step 3: Collecting Data\n",
    "The data set contains responses from 1453 adult Australian consumers relating to\n",
    "their perceptions of McDonald’s with respect to the following attributes: YUMMY,\n",
    "CONVENIENT, SPICY, FATTENING, GREASY, FAST, CHEAP, TASTY, EXPENSIVE,\n",
    "\n",
    "HEALTHY, and DISGUSTING. These attributes emerged from a qualitative study con-\n",
    "ducted in preparation of the survey study. For each of those attributes, respondents\n",
    "\n",
    "provided either a YES response (indicating that they feel McDonald’s possesses\n",
    "this attribute), or a NO response"
   ]
  },
  {
   "cell_type": "markdown",
   "id": "1181cb32",
   "metadata": {},
   "source": [
    "A.4 Step 4: Exploring Data\n",
    "First we explore the key characteristics of the data set by loading the data set and\n",
    "inspecting basic features such as the variable names, the sample size, and the first\n",
    "three rows of the data:"
   ]
  },
  {
   "cell_type": "code",
   "execution_count": 1,
   "id": "a6ca5e29",
   "metadata": {},
   "outputs": [],
   "source": [
    "import pandas as pd\n",
    "import numpy as np\n",
    "import matplotlib.pyplot as plt\n",
    "import seaborn as sns\n",
    "sns.set()\n",
    "from sklearn.cluster import KMeans"
   ]
  },
  {
   "cell_type": "code",
   "execution_count": 2,
   "id": "08b0dbe9",
   "metadata": {},
   "outputs": [],
   "source": [
    "r_data=pd.read_csv('https://homepage.boku.ac.at/leisch/MSA/datasets/mcdonalds.csv')"
   ]
  },
  {
   "cell_type": "code",
   "execution_count": 3,
   "id": "705bebe0",
   "metadata": {},
   "outputs": [
    {
     "data": {
      "text/html": [
       "<div>\n",
       "<style scoped>\n",
       "    .dataframe tbody tr th:only-of-type {\n",
       "        vertical-align: middle;\n",
       "    }\n",
       "\n",
       "    .dataframe tbody tr th {\n",
       "        vertical-align: top;\n",
       "    }\n",
       "\n",
       "    .dataframe thead th {\n",
       "        text-align: right;\n",
       "    }\n",
       "</style>\n",
       "<table border=\"1\" class=\"dataframe\">\n",
       "  <thead>\n",
       "    <tr style=\"text-align: right;\">\n",
       "      <th></th>\n",
       "      <th>yummy</th>\n",
       "      <th>convenient</th>\n",
       "      <th>spicy</th>\n",
       "      <th>fattening</th>\n",
       "      <th>greasy</th>\n",
       "      <th>fast</th>\n",
       "      <th>cheap</th>\n",
       "      <th>tasty</th>\n",
       "      <th>expensive</th>\n",
       "      <th>healthy</th>\n",
       "      <th>disgusting</th>\n",
       "      <th>Like</th>\n",
       "      <th>Age</th>\n",
       "      <th>VisitFrequency</th>\n",
       "      <th>Gender</th>\n",
       "    </tr>\n",
       "  </thead>\n",
       "  <tbody>\n",
       "    <tr>\n",
       "      <th>0</th>\n",
       "      <td>No</td>\n",
       "      <td>Yes</td>\n",
       "      <td>No</td>\n",
       "      <td>Yes</td>\n",
       "      <td>No</td>\n",
       "      <td>Yes</td>\n",
       "      <td>Yes</td>\n",
       "      <td>No</td>\n",
       "      <td>Yes</td>\n",
       "      <td>No</td>\n",
       "      <td>No</td>\n",
       "      <td>-3</td>\n",
       "      <td>61</td>\n",
       "      <td>Every three months</td>\n",
       "      <td>Female</td>\n",
       "    </tr>\n",
       "    <tr>\n",
       "      <th>1</th>\n",
       "      <td>Yes</td>\n",
       "      <td>Yes</td>\n",
       "      <td>No</td>\n",
       "      <td>Yes</td>\n",
       "      <td>Yes</td>\n",
       "      <td>Yes</td>\n",
       "      <td>Yes</td>\n",
       "      <td>Yes</td>\n",
       "      <td>Yes</td>\n",
       "      <td>No</td>\n",
       "      <td>No</td>\n",
       "      <td>+2</td>\n",
       "      <td>51</td>\n",
       "      <td>Every three months</td>\n",
       "      <td>Female</td>\n",
       "    </tr>\n",
       "    <tr>\n",
       "      <th>2</th>\n",
       "      <td>No</td>\n",
       "      <td>Yes</td>\n",
       "      <td>Yes</td>\n",
       "      <td>Yes</td>\n",
       "      <td>Yes</td>\n",
       "      <td>Yes</td>\n",
       "      <td>No</td>\n",
       "      <td>Yes</td>\n",
       "      <td>Yes</td>\n",
       "      <td>Yes</td>\n",
       "      <td>No</td>\n",
       "      <td>+1</td>\n",
       "      <td>62</td>\n",
       "      <td>Every three months</td>\n",
       "      <td>Female</td>\n",
       "    </tr>\n",
       "    <tr>\n",
       "      <th>3</th>\n",
       "      <td>Yes</td>\n",
       "      <td>Yes</td>\n",
       "      <td>No</td>\n",
       "      <td>Yes</td>\n",
       "      <td>Yes</td>\n",
       "      <td>Yes</td>\n",
       "      <td>Yes</td>\n",
       "      <td>Yes</td>\n",
       "      <td>No</td>\n",
       "      <td>No</td>\n",
       "      <td>Yes</td>\n",
       "      <td>+4</td>\n",
       "      <td>69</td>\n",
       "      <td>Once a week</td>\n",
       "      <td>Female</td>\n",
       "    </tr>\n",
       "    <tr>\n",
       "      <th>4</th>\n",
       "      <td>No</td>\n",
       "      <td>Yes</td>\n",
       "      <td>No</td>\n",
       "      <td>Yes</td>\n",
       "      <td>Yes</td>\n",
       "      <td>Yes</td>\n",
       "      <td>Yes</td>\n",
       "      <td>No</td>\n",
       "      <td>No</td>\n",
       "      <td>Yes</td>\n",
       "      <td>No</td>\n",
       "      <td>+2</td>\n",
       "      <td>49</td>\n",
       "      <td>Once a month</td>\n",
       "      <td>Male</td>\n",
       "    </tr>\n",
       "  </tbody>\n",
       "</table>\n",
       "</div>"
      ],
      "text/plain": [
       "  yummy convenient spicy fattening greasy fast cheap tasty expensive healthy  \\\n",
       "0    No        Yes    No       Yes     No  Yes   Yes    No       Yes      No   \n",
       "1   Yes        Yes    No       Yes    Yes  Yes   Yes   Yes       Yes      No   \n",
       "2    No        Yes   Yes       Yes    Yes  Yes    No   Yes       Yes     Yes   \n",
       "3   Yes        Yes    No       Yes    Yes  Yes   Yes   Yes        No      No   \n",
       "4    No        Yes    No       Yes    Yes  Yes   Yes    No        No     Yes   \n",
       "\n",
       "  disgusting Like  Age      VisitFrequency  Gender  \n",
       "0         No   -3   61  Every three months  Female  \n",
       "1         No   +2   51  Every three months  Female  \n",
       "2         No   +1   62  Every three months  Female  \n",
       "3        Yes   +4   69         Once a week  Female  \n",
       "4         No   +2   49        Once a month    Male  "
      ]
     },
     "execution_count": 3,
     "metadata": {},
     "output_type": "execute_result"
    }
   ],
   "source": [
    "r_data.head()"
   ]
  },
  {
   "cell_type": "markdown",
   "id": "73e75e6f",
   "metadata": {},
   "source": [
    "As we can see from the output, the first respondent believes that McDonald’s is not\n",
    "yummy, convenient, not spicy, fattening, not greasy, fast, cheap, not tasty, expensive,\n",
    "not healthy and not disgusting. This same respondent does not like McDonald’s\n",
    "(rating of −3), is 61 years old, eats at McDonald’s every three months and is female.\n",
    "This quick glance at the data shows that the segmentation variables (perception\n",
    "of McDonald’s) are verbal, not numeric. This means that they are coded using\n",
    "the words YES and NO. This is not a suitable format for segment extraction. We\n",
    "need numbers, not words. To get numbers, we store the segmentation variables in a\n",
    "separate matrix, and convert them from verbal YES/NO to numeric binary."
   ]
  },
  {
   "cell_type": "code",
   "execution_count": 4,
   "id": "b117fd6c",
   "metadata": {},
   "outputs": [
    {
     "name": "stdout",
     "output_type": "stream",
     "text": [
      "<class 'pandas.core.frame.DataFrame'>\n",
      "RangeIndex: 1453 entries, 0 to 1452\n",
      "Data columns (total 15 columns):\n",
      " #   Column          Non-Null Count  Dtype \n",
      "---  ------          --------------  ----- \n",
      " 0   yummy           1453 non-null   object\n",
      " 1   convenient      1453 non-null   object\n",
      " 2   spicy           1453 non-null   object\n",
      " 3   fattening       1453 non-null   object\n",
      " 4   greasy          1453 non-null   object\n",
      " 5   fast            1453 non-null   object\n",
      " 6   cheap           1453 non-null   object\n",
      " 7   tasty           1453 non-null   object\n",
      " 8   expensive       1453 non-null   object\n",
      " 9   healthy         1453 non-null   object\n",
      " 10  disgusting      1453 non-null   object\n",
      " 11  Like            1453 non-null   object\n",
      " 12  Age             1453 non-null   int64 \n",
      " 13  VisitFrequency  1453 non-null   object\n",
      " 14  Gender          1453 non-null   object\n",
      "dtypes: int64(1), object(14)\n",
      "memory usage: 170.4+ KB\n"
     ]
    }
   ],
   "source": [
    "r_data.info()"
   ]
  },
  {
   "cell_type": "code",
   "execution_count": 5,
   "id": "92c1d7cc",
   "metadata": {},
   "outputs": [
    {
     "data": {
      "text/plain": [
       "yummy             0\n",
       "convenient        0\n",
       "spicy             0\n",
       "fattening         0\n",
       "greasy            0\n",
       "fast              0\n",
       "cheap             0\n",
       "tasty             0\n",
       "expensive         0\n",
       "healthy           0\n",
       "disgusting        0\n",
       "Like              0\n",
       "Age               0\n",
       "VisitFrequency    0\n",
       "Gender            0\n",
       "dtype: int64"
      ]
     },
     "execution_count": 5,
     "metadata": {},
     "output_type": "execute_result"
    }
   ],
   "source": [
    "r_data.isnull().sum()"
   ]
  },
  {
   "cell_type": "code",
   "execution_count": 6,
   "id": "44ce20d4",
   "metadata": {},
   "outputs": [
    {
     "data": {
      "text/html": [
       "<div>\n",
       "<style scoped>\n",
       "    .dataframe tbody tr th:only-of-type {\n",
       "        vertical-align: middle;\n",
       "    }\n",
       "\n",
       "    .dataframe tbody tr th {\n",
       "        vertical-align: top;\n",
       "    }\n",
       "\n",
       "    .dataframe thead th {\n",
       "        text-align: right;\n",
       "    }\n",
       "</style>\n",
       "<table border=\"1\" class=\"dataframe\">\n",
       "  <thead>\n",
       "    <tr style=\"text-align: right;\">\n",
       "      <th></th>\n",
       "      <th>Age</th>\n",
       "    </tr>\n",
       "  </thead>\n",
       "  <tbody>\n",
       "    <tr>\n",
       "      <th>count</th>\n",
       "      <td>1453.000000</td>\n",
       "    </tr>\n",
       "    <tr>\n",
       "      <th>mean</th>\n",
       "      <td>44.604955</td>\n",
       "    </tr>\n",
       "    <tr>\n",
       "      <th>std</th>\n",
       "      <td>14.221178</td>\n",
       "    </tr>\n",
       "    <tr>\n",
       "      <th>min</th>\n",
       "      <td>18.000000</td>\n",
       "    </tr>\n",
       "    <tr>\n",
       "      <th>25%</th>\n",
       "      <td>33.000000</td>\n",
       "    </tr>\n",
       "    <tr>\n",
       "      <th>50%</th>\n",
       "      <td>45.000000</td>\n",
       "    </tr>\n",
       "    <tr>\n",
       "      <th>75%</th>\n",
       "      <td>57.000000</td>\n",
       "    </tr>\n",
       "    <tr>\n",
       "      <th>max</th>\n",
       "      <td>71.000000</td>\n",
       "    </tr>\n",
       "  </tbody>\n",
       "</table>\n",
       "</div>"
      ],
      "text/plain": [
       "               Age\n",
       "count  1453.000000\n",
       "mean     44.604955\n",
       "std      14.221178\n",
       "min      18.000000\n",
       "25%      33.000000\n",
       "50%      45.000000\n",
       "75%      57.000000\n",
       "max      71.000000"
      ]
     },
     "execution_count": 6,
     "metadata": {},
     "output_type": "execute_result"
    }
   ],
   "source": [
    "r_data.describe()"
   ]
  },
  {
   "cell_type": "markdown",
   "id": "9f3b3870",
   "metadata": {},
   "source": [
    "First we extract the first eleven columns from the data set because these columns\n",
    "contain the segmentation variables, and convert the data to a matrix. Then we\n",
    "identify all YES entries in the matrix. This results in a logical matrix with entries\n",
    "TRUE and FALSE. Adding 0 to the logical matrix converts TRUE to 1, and FALSE\n",
    "to 0. We check that we transformed the data correctly by inspecting the average\n",
    "value of each transformed segementation variable."
   ]
  },
  {
   "cell_type": "code",
   "execution_count": 7,
   "id": "c8d8cb3d",
   "metadata": {},
   "outputs": [
    {
     "data": {
      "text/html": [
       "<div>\n",
       "<style scoped>\n",
       "    .dataframe tbody tr th:only-of-type {\n",
       "        vertical-align: middle;\n",
       "    }\n",
       "\n",
       "    .dataframe tbody tr th {\n",
       "        vertical-align: top;\n",
       "    }\n",
       "\n",
       "    .dataframe thead th {\n",
       "        text-align: right;\n",
       "    }\n",
       "</style>\n",
       "<table border=\"1\" class=\"dataframe\">\n",
       "  <thead>\n",
       "    <tr style=\"text-align: right;\">\n",
       "      <th></th>\n",
       "      <th>yummy</th>\n",
       "      <th>convenient</th>\n",
       "      <th>spicy</th>\n",
       "      <th>fattening</th>\n",
       "      <th>greasy</th>\n",
       "      <th>fast</th>\n",
       "      <th>cheap</th>\n",
       "      <th>tasty</th>\n",
       "      <th>expensive</th>\n",
       "      <th>healthy</th>\n",
       "      <th>disgusting</th>\n",
       "    </tr>\n",
       "  </thead>\n",
       "  <tbody>\n",
       "    <tr>\n",
       "      <th>0</th>\n",
       "      <td>No</td>\n",
       "      <td>Yes</td>\n",
       "      <td>No</td>\n",
       "      <td>Yes</td>\n",
       "      <td>No</td>\n",
       "      <td>Yes</td>\n",
       "      <td>Yes</td>\n",
       "      <td>No</td>\n",
       "      <td>Yes</td>\n",
       "      <td>No</td>\n",
       "      <td>No</td>\n",
       "    </tr>\n",
       "    <tr>\n",
       "      <th>1</th>\n",
       "      <td>Yes</td>\n",
       "      <td>Yes</td>\n",
       "      <td>No</td>\n",
       "      <td>Yes</td>\n",
       "      <td>Yes</td>\n",
       "      <td>Yes</td>\n",
       "      <td>Yes</td>\n",
       "      <td>Yes</td>\n",
       "      <td>Yes</td>\n",
       "      <td>No</td>\n",
       "      <td>No</td>\n",
       "    </tr>\n",
       "    <tr>\n",
       "      <th>2</th>\n",
       "      <td>No</td>\n",
       "      <td>Yes</td>\n",
       "      <td>Yes</td>\n",
       "      <td>Yes</td>\n",
       "      <td>Yes</td>\n",
       "      <td>Yes</td>\n",
       "      <td>No</td>\n",
       "      <td>Yes</td>\n",
       "      <td>Yes</td>\n",
       "      <td>Yes</td>\n",
       "      <td>No</td>\n",
       "    </tr>\n",
       "    <tr>\n",
       "      <th>3</th>\n",
       "      <td>Yes</td>\n",
       "      <td>Yes</td>\n",
       "      <td>No</td>\n",
       "      <td>Yes</td>\n",
       "      <td>Yes</td>\n",
       "      <td>Yes</td>\n",
       "      <td>Yes</td>\n",
       "      <td>Yes</td>\n",
       "      <td>No</td>\n",
       "      <td>No</td>\n",
       "      <td>Yes</td>\n",
       "    </tr>\n",
       "    <tr>\n",
       "      <th>4</th>\n",
       "      <td>No</td>\n",
       "      <td>Yes</td>\n",
       "      <td>No</td>\n",
       "      <td>Yes</td>\n",
       "      <td>Yes</td>\n",
       "      <td>Yes</td>\n",
       "      <td>Yes</td>\n",
       "      <td>No</td>\n",
       "      <td>No</td>\n",
       "      <td>Yes</td>\n",
       "      <td>No</td>\n",
       "    </tr>\n",
       "    <tr>\n",
       "      <th>...</th>\n",
       "      <td>...</td>\n",
       "      <td>...</td>\n",
       "      <td>...</td>\n",
       "      <td>...</td>\n",
       "      <td>...</td>\n",
       "      <td>...</td>\n",
       "      <td>...</td>\n",
       "      <td>...</td>\n",
       "      <td>...</td>\n",
       "      <td>...</td>\n",
       "      <td>...</td>\n",
       "    </tr>\n",
       "    <tr>\n",
       "      <th>1448</th>\n",
       "      <td>No</td>\n",
       "      <td>Yes</td>\n",
       "      <td>No</td>\n",
       "      <td>Yes</td>\n",
       "      <td>Yes</td>\n",
       "      <td>No</td>\n",
       "      <td>No</td>\n",
       "      <td>No</td>\n",
       "      <td>Yes</td>\n",
       "      <td>No</td>\n",
       "      <td>Yes</td>\n",
       "    </tr>\n",
       "    <tr>\n",
       "      <th>1449</th>\n",
       "      <td>Yes</td>\n",
       "      <td>Yes</td>\n",
       "      <td>No</td>\n",
       "      <td>Yes</td>\n",
       "      <td>No</td>\n",
       "      <td>No</td>\n",
       "      <td>Yes</td>\n",
       "      <td>Yes</td>\n",
       "      <td>No</td>\n",
       "      <td>Yes</td>\n",
       "      <td>No</td>\n",
       "    </tr>\n",
       "    <tr>\n",
       "      <th>1450</th>\n",
       "      <td>Yes</td>\n",
       "      <td>Yes</td>\n",
       "      <td>No</td>\n",
       "      <td>Yes</td>\n",
       "      <td>No</td>\n",
       "      <td>Yes</td>\n",
       "      <td>No</td>\n",
       "      <td>Yes</td>\n",
       "      <td>Yes</td>\n",
       "      <td>No</td>\n",
       "      <td>No</td>\n",
       "    </tr>\n",
       "    <tr>\n",
       "      <th>1451</th>\n",
       "      <td>Yes</td>\n",
       "      <td>Yes</td>\n",
       "      <td>No</td>\n",
       "      <td>No</td>\n",
       "      <td>No</td>\n",
       "      <td>Yes</td>\n",
       "      <td>Yes</td>\n",
       "      <td>Yes</td>\n",
       "      <td>No</td>\n",
       "      <td>Yes</td>\n",
       "      <td>No</td>\n",
       "    </tr>\n",
       "    <tr>\n",
       "      <th>1452</th>\n",
       "      <td>No</td>\n",
       "      <td>Yes</td>\n",
       "      <td>No</td>\n",
       "      <td>Yes</td>\n",
       "      <td>Yes</td>\n",
       "      <td>No</td>\n",
       "      <td>No</td>\n",
       "      <td>No</td>\n",
       "      <td>Yes</td>\n",
       "      <td>No</td>\n",
       "      <td>Yes</td>\n",
       "    </tr>\n",
       "  </tbody>\n",
       "</table>\n",
       "<p>1453 rows × 11 columns</p>\n",
       "</div>"
      ],
      "text/plain": [
       "     yummy convenient spicy fattening greasy fast cheap tasty expensive  \\\n",
       "0       No        Yes    No       Yes     No  Yes   Yes    No       Yes   \n",
       "1      Yes        Yes    No       Yes    Yes  Yes   Yes   Yes       Yes   \n",
       "2       No        Yes   Yes       Yes    Yes  Yes    No   Yes       Yes   \n",
       "3      Yes        Yes    No       Yes    Yes  Yes   Yes   Yes        No   \n",
       "4       No        Yes    No       Yes    Yes  Yes   Yes    No        No   \n",
       "...    ...        ...   ...       ...    ...  ...   ...   ...       ...   \n",
       "1448    No        Yes    No       Yes    Yes   No    No    No       Yes   \n",
       "1449   Yes        Yes    No       Yes     No   No   Yes   Yes        No   \n",
       "1450   Yes        Yes    No       Yes     No  Yes    No   Yes       Yes   \n",
       "1451   Yes        Yes    No        No     No  Yes   Yes   Yes        No   \n",
       "1452    No        Yes    No       Yes    Yes   No    No    No       Yes   \n",
       "\n",
       "     healthy disgusting  \n",
       "0         No         No  \n",
       "1         No         No  \n",
       "2        Yes         No  \n",
       "3         No        Yes  \n",
       "4        Yes         No  \n",
       "...      ...        ...  \n",
       "1448      No        Yes  \n",
       "1449     Yes         No  \n",
       "1450      No         No  \n",
       "1451     Yes         No  \n",
       "1452      No        Yes  \n",
       "\n",
       "[1453 rows x 11 columns]"
      ]
     },
     "execution_count": 7,
     "metadata": {},
     "output_type": "execute_result"
    }
   ],
   "source": [
    "data=r_data.iloc[:,:11]\n",
    "data"
   ]
  },
  {
   "cell_type": "code",
   "execution_count": 8,
   "id": "24a02d50",
   "metadata": {},
   "outputs": [],
   "source": [
    "data=(data=='Yes').astype(int)\n",
    "col_mean=np.mean(data,axis=0)\n",
    "rounded_col_mean=np.round(col_mean,2)"
   ]
  },
  {
   "cell_type": "markdown",
   "id": "237fb869",
   "metadata": {},
   "source": [
    "The average values of the transformed binary numeric segmentation variables\n",
    "indicate that about half of the respondents (55%) perceive McDonald’s as YUMMY,\n",
    "91% believe that eating at McDonald’s is CONVENIENT, but only 9% think that\n",
    "McDonald’s food is SPICY."
   ]
  },
  {
   "cell_type": "code",
   "execution_count": 9,
   "id": "818663b6",
   "metadata": {},
   "outputs": [
    {
     "data": {
      "text/plain": [
       "yummy         0.55\n",
       "convenient    0.91\n",
       "spicy         0.09\n",
       "fattening     0.87\n",
       "greasy        0.53\n",
       "fast          0.90\n",
       "cheap         0.60\n",
       "tasty         0.64\n",
       "expensive     0.36\n",
       "healthy       0.20\n",
       "disgusting    0.24\n",
       "dtype: float64"
      ]
     },
     "execution_count": 9,
     "metadata": {},
     "output_type": "execute_result"
    }
   ],
   "source": [
    "rounded_col_mean"
   ]
  },
  {
   "cell_type": "markdown",
   "id": "50e28c3f",
   "metadata": {},
   "source": [
    "Another way of exploring data initially is to compute a principal components\n",
    "analysis, and create a perceptual map. A perceptual map offers initial insights into\n",
    "how attributes are rated by respondents and, importantly, which attributes tend to be\n",
    "rated in the same way. Principal components analysis is not computed to reduce the\n",
    "number of variables. This approach – also referred to as factor-cluster analysis – is\n",
    "inferior to clustering raw data in most instances (Dolnicar and Grün 2008). Here, we\n",
    "calculate principal components because we use the resulting components to rotate\n",
    "and project the data for the perceptual map. We use unstandardised data because our\n",
    "segmentation variables are all binary."
   ]
  },
  {
   "cell_type": "code",
   "execution_count": 10,
   "id": "13f1980b",
   "metadata": {},
   "outputs": [],
   "source": [
    "from sklearn.decomposition import PCA"
   ]
  },
  {
   "cell_type": "code",
   "execution_count": 11,
   "id": "a2367c8c",
   "metadata": {},
   "outputs": [
    {
     "name": "stdout",
     "output_type": "stream",
     "text": [
      "[0.29944723 0.19279721 0.13304535 0.08309578 0.05948052 0.05029956\n",
      " 0.0438491  0.03954779 0.0367609  0.03235329 0.02932326]\n"
     ]
    }
   ],
   "source": [
    "data_pca=PCA().fit(data)\n",
    "print(data_pca.explained_variance_ratio_)"
   ]
  },
  {
   "cell_type": "code",
   "execution_count": 12,
   "id": "956a4374",
   "metadata": {},
   "outputs": [
    {
     "name": "stdout",
     "output_type": "stream",
     "text": [
      "[[ 0.2  0.   0.  -0.  -0.   0.   0.   0.2 -0.   0.  -0.1]\n",
      " [ 0.   0.1  0.   0.  -0.   0.   0.   0.  -0.   0.  -0. ]\n",
      " [ 0.   0.   0.1 -0.   0.   0.   0.   0.   0.   0.   0. ]\n",
      " [-0.   0.  -0.   0.1  0.1  0.  -0.  -0.   0.  -0.   0. ]\n",
      " [-0.  -0.   0.   0.1  0.2 -0.  -0.  -0.   0.  -0.   0.1]\n",
      " [ 0.   0.   0.   0.  -0.   0.1  0.   0.  -0.   0.  -0. ]\n",
      " [ 0.   0.   0.  -0.  -0.   0.   0.2  0.  -0.2  0.  -0. ]\n",
      " [ 0.2  0.   0.  -0.  -0.   0.   0.   0.2 -0.   0.  -0.1]\n",
      " [-0.  -0.   0.   0.   0.  -0.  -0.2 -0.   0.2 -0.   0. ]\n",
      " [ 0.   0.   0.  -0.  -0.   0.   0.   0.  -0.   0.2 -0. ]\n",
      " [-0.1 -0.   0.   0.   0.1 -0.  -0.  -0.1  0.  -0.   0.2]]\n"
     ]
    }
   ],
   "source": [
    "print(np.around(data_pca.get_covariance(), decimals=1))"
   ]
  },
  {
   "cell_type": "code",
   "execution_count": 13,
   "id": "3325bb3e",
   "metadata": {},
   "outputs": [
    {
     "data": {
      "image/png": "[encoded data removed]",
      "text/plain": [
       "<Figure size 432x288 with 1 Axes>"
      ]
     },
     "metadata": {},
     "output_type": "display_data"
    }
   ],
   "source": [
    "plt.scatter(data_pca.transform(data)[:,0],data_pca.transform(data)[:,1],c='grey')\n",
    "plt.plot(*data_pca.components_.T)\n",
    "plt.show()"
   ]
  },
  {
   "cell_type": "markdown",
   "id": "341f2e56",
   "metadata": {},
   "source": [
    "These initial exploratory insights represent valuable information for segment\n",
    "extraction. Results indicate that some attributes are strongly related to one another,\n",
    "and that the price dimension may be critical in differentiating between groups of\n",
    "consumers."
   ]
  },
  {
   "cell_type": "markdown",
   "id": "8a6700ff",
   "metadata": {},
   "source": [
    "A.5.1 Using k-Means\n",
    "We calculate solutions for two to eight market segments using standard k-means\n",
    "analysis with ten random restarts (argument nrep). We then relabel segment numbers such that they are consistent across segmentations.We extract between two and eight segments because we do not know in advancewhat the best number of market segments is. If we calculate a range of solutions, we can compare them and choose the one which extracts segments containing similar consumers which are distinctly different from members of other segments."
   ]
  },
  {
   "cell_type": "code",
   "execution_count": 14,
   "id": "b3ca0345",
   "metadata": {},
   "outputs": [],
   "source": [
    "from sklearn.utils import check_random_state"
   ]
  },
  {
   "cell_type": "code",
   "execution_count": 15,
   "id": "cfe32f19",
   "metadata": {},
   "outputs": [],
   "source": [
    "np.random.seed(1234)\n",
    "results =[]\n",
    "for i in range(2, 9):\n",
    "    best_inertia =np.inf\n",
    "    for j in range(10):\n",
    "        kmeans =KMeans(n_clusters=i, random_state=check_random_state(j)).fit(data)\n",
    "        if kmeans.inertia_<best_inertia:\n",
    "            best_kmeans =kmeans\n",
    "            best_inertia =kmeans.inertia_\n",
    "    results.append(best_kmeans)\n",
    "\n",
    "data_km28 =results[-1]\n"
   ]
  },
  {
   "cell_type": "code",
   "execution_count": 16,
   "id": "73d3f70b",
   "metadata": {},
   "outputs": [
    {
     "data": {
      "image/png": "[encoded data removed]",
      "text/plain": [
       "<Figure size 432x288 with 1 Axes>"
      ]
     },
     "metadata": {},
     "output_type": "display_data"
    }
   ],
   "source": [
    "plt.plot(range(2, 9), [km.inertia_ for km in results])\n",
    "plt.xlabel('number of segments')\n",
    "plt.show()"
   ]
  },
  {
   "cell_type": "markdown",
   "id": "137a3df7",
   "metadata": {},
   "source": [
    "A.5.2 Using Mixtures of Distributions\n",
    "We calculate latent class analysis using a finite mixture of binary distributions.\n",
    "The mixture model maximises the likelihood to extract segments (as opposed to\n",
    "minimising squared Euclidean distance, as is the case for k-means)."
   ]
  },
  {
   "cell_type": "code",
   "execution_count": 17,
   "id": "bc8c12da",
   "metadata": {},
   "outputs": [],
   "source": [
    "from sklearn.mixture import GaussianMixture\n",
    "\n",
    "np.random.seed(1234)\n",
    "results =[]\n",
    "for i in range(2, 9):\n",
    "    best_score =-np.inf\n",
    "    for j in range(10):\n",
    "        gmm =GaussianMixture(n_components=i, random_state=check_random_state(j)).fit(data)\n",
    "        score=gmm.score(data)\n",
    "        if score > best_score:\n",
    "            best_gmm =gmm\n",
    "            best_score =score\n",
    "    results.append(best_gmm)\n",
    "\n",
    "data_m28=results[-1]"
   ]
  },
  {
   "cell_type": "code",
   "execution_count": 18,
   "id": "a6a6536b",
   "metadata": {},
   "outputs": [
    {
     "data": {
      "image/png": "[encoded data removed]",
      "text/plain": [
       "<Figure size 576x432 with 1 Axes>"
      ]
     },
     "metadata": {},
     "output_type": "display_data"
    }
   ],
   "source": [
    "import matplotlib.pyplot as plt\n",
    "import numpy as np\n",
    "from sklearn.mixture import GaussianMixture\n",
    "from sklearn.utils import check_random_state\n",
    "\n",
    "np.random.seed(1234)\n",
    "\n",
    "results =[]\n",
    "for i in range(2, 9):\n",
    "    best_score =-np.inf\n",
    "    for j in range(10):\n",
    "        gmm =GaussianMixture(n_components=i, random_state=check_random_state(j)).fit(data)\n",
    "        score =gmm.score(data)\n",
    "        if score>best_score:\n",
    "            best_gmm =gmm\n",
    "            best_score =score\n",
    "    results.append(best_gmm)\n",
    "\n",
    "n_components =np.arange(2, 9)\n",
    "aic =[model.aic(data) for model in results]\n",
    "bic =[model.bic(data) for model in results]\n",
    "log_likelihood =[model.score(data) for model in results]\n",
    "\n",
    "fig, ax =plt.subplots(figsize=(8, 6))\n",
    "ax.plot(n_components, aic, label='AIC')\n",
    "ax.plot(n_components, bic, label='BIC')\n",
    "ax.plot(n_components, log_likelihood, label='Log-likelihood')\n",
    "ax.set_xlabel('Number of components')\n",
    "ax.set_ylabel('Information criteria values')\n",
    "ax.legend()\n",
    "plt.show()"
   ]
  },
  {
   "cell_type": "code",
   "execution_count": null,
   "id": "fc591463",
   "metadata": {},
   "outputs": [],
   "source": []
  }
 ],
 "metadata": {
  "kernelspec": {
   "display_name": "Python 3 (ipykernel)",
   "language": "python",
   "name": "python3"
  },
  "language_info": {
   "codemirror_mode": {
    "name": "ipython",
    "version": 3
   },
   "file_extension": ".py",
   "mimetype": "text/x-python",
   "name": "python",
   "nbconvert_exporter": "python",
   "pygments_lexer": "ipython3",
   "version": "3.9.7"
  }
 },
 "nbformat": 4,
 "nbformat_minor": 5
}
